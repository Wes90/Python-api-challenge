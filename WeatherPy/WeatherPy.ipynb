{
 "cells": [
  {
   "cell_type": "markdown",
   "metadata": {},
   "source": [
    "# WeatherPy\n",
    "----\n",
    "\n",
    "#### Note\n",
    "* Instructions have been included for each segment. You do not have to follow them exactly, but they are included to help you think through the steps."
   ]
  },
  {
   "cell_type": "code",
   "execution_count": 2,
   "metadata": {
    "scrolled": true
   },
   "outputs": [],
   "source": [
    "# Dependencies and Setup\n",
    "\n",
    "import matplotlib.pyplot as plt\n",
    "import pandas as pd\n",
    "import numpy as np\n",
    "import requests\n",
    "import time\n",
    "import json\n",
    "import pprint as pprint\n",
    "from scipy.stats import linregress\n",
    "\n",
    "# Import API key\n",
    "from api_keys import weather_api_key\n",
    "\n",
    "# Incorporated citipy to determine city based on latitude and longitude\n",
    "from citipy import citipy\n",
    "\n",
    "# Output File (CSV)\n",
    "output_data_file = \"output_data/cities.csv\"\n",
    "\n",
    "# Range of latitudes and longitudes\n",
    "lat_range = (-90, 90)\n",
    "lng_range = (-180, 180)"
   ]
  },
  {
   "cell_type": "markdown",
   "metadata": {},
   "source": [
    "## Generate Cities List"
   ]
  },
  {
   "cell_type": "code",
   "execution_count": 3,
   "metadata": {},
   "outputs": [
    {
     "data": {
      "text/plain": [
       "594"
      ]
     },
     "execution_count": 3,
     "metadata": {},
     "output_type": "execute_result"
    }
   ],
   "source": [
    "# List for holding lat_lngs and cities\n",
    "lat_lngs = []\n",
    "cities = []\n",
    "\n",
    "# Create a set of random lat and lng combinations\n",
    "lats = np.random.uniform(lat_range[0], lat_range[1], size=1500)\n",
    "lngs = np.random.uniform(lng_range[0], lng_range[1], size=1500)\n",
    "lat_lngs = zip(lats, lngs)\n",
    "\n",
    "# Identify nearest city for each lat, lng combination\n",
    "for lat_lng in lat_lngs:\n",
    "    city = citipy.nearest_city(lat_lng[0], lat_lng[1]).city_name\n",
    "    \n",
    "    # If the city is unique, then add it to a our cities list\n",
    "    if city not in cities:\n",
    "        cities.append(city)\n",
    "\n",
    "# Print the city count to confirm sufficient count\n",
    "len(cities)"
   ]
  },
  {
   "cell_type": "markdown",
   "metadata": {},
   "source": [
    "### Perform API Calls\n",
    "* Perform a weather check on each city using a series of successive API calls.\n",
    "* Include a print log of each city as it'sbeing processed (with the city number and city name).\n"
   ]
  },
  {
   "cell_type": "code",
   "execution_count": 4,
   "metadata": {
    "scrolled": true
   },
   "outputs": [
    {
     "name": "stdout",
     "output_type": "stream",
     "text": [
      "0 punta arenas\n",
      "1 toliary\n",
      "City information not found.\n",
      "2 jacareacanga\n",
      "3 rikitea\n",
      "4 sao joao da barra\n",
      "5 vaini\n",
      "6 ituni\n",
      "City information not found.\n",
      "7 vytegra\n",
      "8 albany\n",
      "9 necocli\n",
      "10 lagoa\n",
      "11 port alfred\n",
      "12 tuatapere\n",
      "13 mar del plata\n",
      "14 yei\n",
      "15 torbay\n",
      "16 atuona\n",
      "17 hithadhoo\n",
      "18 yellowknife\n",
      "19 kralendijk\n",
      "20 severo-kurilsk\n",
      "21 qaqortoq\n",
      "22 busselton\n",
      "23 nanortalik\n",
      "24 lebu\n",
      "25 ilulissat\n",
      "26 olinala\n",
      "27 provideniya\n",
      "28 bolungarvik\n",
      "City information not found.\n",
      "29 charters towers\n",
      "30 kahului\n",
      "31 hambantota\n",
      "32 tawkar\n",
      "City information not found.\n",
      "33 vila velha\n",
      "34 swellendam\n",
      "35 nuevo progreso\n",
      "36 lasa\n",
      "37 nanakuli\n",
      "38 saleaula\n",
      "City information not found.\n",
      "39 adrar\n",
      "40 naze\n",
      "41 hasaki\n",
      "42 dikson\n",
      "43 ushuaia\n",
      "44 los llanos de aridane\n",
      "45 ahipara\n",
      "46 klaksvik\n",
      "47 hobart\n",
      "48 husavik\n",
      "49 belaya gora\n",
      "50 bukoba\n",
      "51 sur\n",
      "52 mataura\n",
      "53 hofn\n",
      "54 fortuna\n",
      "55 moree\n",
      "56 illoqqortoormiut\n",
      "City information not found.\n",
      "57 santander\n",
      "58 itarema\n",
      "59 atar\n",
      "60 attawapiskat\n",
      "City information not found.\n",
      "61 lorengau\n",
      "62 butaritari\n",
      "63 nikolskoye\n",
      "64 channel-port aux basques\n",
      "65 longyearbyen\n",
      "66 chuy\n",
      "67 grindavik\n",
      "68 victoria\n",
      "69 avera\n",
      "70 keta\n",
      "71 khandyga\n",
      "72 olafsvik\n",
      "73 oktyabrskiy\n",
      "74 hermanus\n",
      "75 scottsburgh\n",
      "City information not found.\n",
      "76 hay river\n",
      "77 saint-philippe\n",
      "78 san juan bautista\n",
      "79 roma\n",
      "80 parana\n",
      "81 hilo\n",
      "82 motril\n",
      "83 cape town\n",
      "84 jamestown\n",
      "85 beringovskiy\n",
      "86 saint george\n",
      "87 lazurne\n",
      "88 karratha\n",
      "89 tiarei\n",
      "90 arroio grande\n",
      "91 qaanaaq\n",
      "92 carikar\n",
      "City information not found.\n",
      "93 kodiak\n",
      "94 jiangkou\n",
      "95 sorong\n",
      "96 bredasdorp\n",
      "97 grand river south east\n",
      "City information not found.\n",
      "98 castro\n",
      "99 priargunsk\n",
      "100 kabare\n",
      "101 thompson\n",
      "102 playa del carmen\n",
      "103 cidreira\n",
      "104 sarab\n",
      "105 naron\n",
      "106 agirish\n",
      "107 vila franca do campo\n",
      "108 malanje\n",
      "109 camacha\n",
      "110 oistins\n",
      "111 talcahuano\n",
      "112 namibe\n",
      "113 pergamino\n",
      "114 tumbagaan\n",
      "115 leningradskiy\n",
      "116 mezen\n",
      "117 kruisfontein\n",
      "118 tutoia\n",
      "119 rawson\n",
      "120 luderitz\n",
      "121 bluff\n",
      "122 kapaa\n",
      "123 seoul\n",
      "124 vanimo\n",
      "125 sambava\n",
      "126 vreed en hoop\n",
      "City information not found.\n",
      "127 barentsburg\n",
      "City information not found.\n",
      "128 woodward\n",
      "129 glendive\n",
      "130 sawtell\n",
      "131 soure\n",
      "132 saskylakh\n",
      "133 stettler\n",
      "134 slave lake\n",
      "135 flinders\n",
      "136 bambous virieux\n",
      "137 belushya guba\n",
      "City information not found.\n",
      "138 te anau\n",
      "139 jos\n",
      "140 khasan\n",
      "141 thomaston\n",
      "142 dingle\n",
      "143 kismayo\n",
      "144 chattanooga\n",
      "145 sentyabrskiy\n",
      "City information not found.\n",
      "146 tumannyy\n",
      "City information not found.\n",
      "147 upernavik\n",
      "148 emmett\n",
      "149 camana\n",
      "150 capreol\n",
      "151 solnechnyy\n",
      "152 sioux lookout\n",
      "153 tuktoyaktuk\n",
      "154 tura\n",
      "155 oussouye\n",
      "156 navahrudak\n",
      "157 souillac\n",
      "158 tasiilaq\n",
      "159 pandamatenga\n",
      "160 lincoln\n",
      "161 barrow\n",
      "162 pevek\n",
      "163 gat\n",
      "164 caravelas\n",
      "165 axim\n",
      "166 georgetown\n",
      "167 porto novo\n",
      "168 clyde river\n",
      "169 half moon bay\n",
      "170 matara\n",
      "171 brookfield\n",
      "172 warrnambool\n",
      "173 mecca\n",
      "174 sliven\n",
      "175 laguna\n",
      "176 lethem\n",
      "177 pisco\n",
      "178 guerrero negro\n",
      "179 fare\n",
      "180 phan rang\n",
      "City information not found.\n",
      "181 kavaratti\n",
      "182 scarborough\n",
      "183 dunedin\n",
      "184 banda aceh\n",
      "185 meyungs\n",
      "City information not found.\n",
      "186 mantua\n",
      "187 khatanga\n",
      "188 burica\n",
      "City information not found.\n",
      "189 mednogorsk\n",
      "190 new norfolk\n",
      "191 labutta\n",
      "City information not found.\n",
      "192 saint leonard\n",
      "193 sicamous\n",
      "194 bethel\n",
      "195 lakes entrance\n",
      "196 lichtenburg\n",
      "197 viligili\n",
      "City information not found.\n",
      "198 bendigo\n",
      "199 palabuhanratu\n",
      "City information not found.\n",
      "200 buariki\n",
      "City information not found.\n",
      "201 wanderlandia\n",
      "City information not found.\n",
      "202 ciudad guayana\n",
      "203 linda\n",
      "204 bud\n",
      "205 kandrian\n",
      "206 san nicolas\n",
      "207 port elizabeth\n",
      "208 huilong\n",
      "209 aasiaat\n",
      "210 ust-nera\n",
      "211 kununurra\n",
      "212 bubaque\n",
      "213 bondoukou\n",
      "214 yirol\n",
      "City information not found.\n",
      "215 mys shmidta\n",
      "City information not found.\n",
      "216 lata\n",
      "217 eureka\n",
      "218 arraial do cabo\n",
      "219 cabo san lucas\n",
      "220 mareeba\n",
      "221 fort nelson\n",
      "222 vaitape\n",
      "223 mahebourg\n",
      "224 vaitupu\n",
      "City information not found.\n",
      "225 sao filipe\n",
      "226 derzhavinsk\n",
      "227 griffith\n",
      "228 meulaboh\n",
      "229 bengkulu\n",
      "230 nipawin\n",
      "231 pimenta bueno\n",
      "232 seryshevo\n",
      "233 moose factory\n",
      "234 taolanaro\n",
      "City information not found.\n",
      "235 yanchukan\n",
      "City information not found.\n",
      "236 alyangula\n",
      "237 ribeirao do pinhal\n",
      "City information not found.\n",
      "238 ribeira grande\n",
      "239 eenhana\n",
      "240 thinadhoo\n",
      "241 letlhakane\n",
      "242 lazaro cardenas\n",
      "243 longkou\n",
      "244 waspan\n",
      "245 avarua\n",
      "246 skjervoy\n",
      "247 ust-maya\n",
      "248 san martin\n",
      "249 atherton\n",
      "250 elat\n",
      "251 honningsvag\n",
      "252 balotra\n",
      "253 kushiro\n",
      "254 chokurdakh\n",
      "255 cherskiy\n",
      "256 bacolod\n",
      "257 east london\n",
      "258 esperance\n",
      "259 touros\n",
      "260 harsin\n",
      "261 pimentel\n",
      "262 chom bung\n",
      "City information not found.\n",
      "263 hami\n",
      "264 quatre cocos\n",
      "265 birpur\n",
      "266 tateyama\n",
      "267 omsukchan\n",
      "268 port blair\n",
      "269 kayankulam\n",
      "270 sept-iles\n",
      "271 madaba\n",
      "272 darhan\n",
      "273 coahuayana\n",
      "274 kamenskoye\n",
      "City information not found.\n",
      "275 araouane\n",
      "276 paamiut\n",
      "277 udachnyy\n",
      "278 gdov\n",
      "279 palmaner\n",
      "280 berlevag\n",
      "281 san cristobal\n",
      "282 kaitangata\n",
      "283 tabiauea\n",
      "City information not found.\n",
      "284 broome\n",
      "285 port augusta\n",
      "286 puerto escondido\n",
      "287 marcona\n",
      "City information not found.\n",
      "288 plettenberg bay\n",
      "289 nizhneyansk\n",
      "City information not found.\n",
      "290 narsaq\n",
      "291 carnarvon\n",
      "292 kotelnich\n",
      "293 wanning\n",
      "294 nome\n",
      "295 gazli\n",
      "296 muisne\n",
      "297 saldanha\n",
      "298 antigonish\n",
      "299 lompoc\n",
      "300 coquimbo\n",
      "301 haines junction\n",
      "302 sitka\n",
      "303 benghazi\n",
      "304 seymchan\n",
      "305 tilichiki\n",
      "306 ambovombe\n",
      "307 talnakh\n",
      "308 saint-pierre\n",
      "309 zheleznogorsk\n",
      "310 ha tinh\n",
      "311 cockburn town\n",
      "312 ojinaga\n",
      "313 hamilton\n",
      "314 shingu\n",
      "315 samusu\n",
      "City information not found.\n",
      "316 mizan teferi\n",
      "317 ancud\n",
      "318 ranfurly\n",
      "319 la ronge\n",
      "320 barbar\n",
      "City information not found.\n",
      "321 orotukan\n",
      "322 mchinji\n",
      "323 oktyabrskoye\n",
      "324 vallenar\n",
      "325 hurghada\n",
      "326 nochistlan\n",
      "327 puri\n",
      "328 liverpool\n",
      "329 taywarah\n",
      "330 shirvan\n",
      "331 mehamn\n",
      "332 samba\n",
      "333 santa maria\n",
      "334 agen\n",
      "335 the valley\n",
      "336 porangatu\n",
      "337 bambanglipuro\n",
      "338 sabang\n",
      "339 triunfo\n",
      "340 kupang\n",
      "341 krasnoborsk\n",
      "342 bitung\n",
      "343 marsh harbour\n",
      "344 cabra\n",
      "345 brigham city\n",
      "346 shenjiamen\n",
      "347 hualmay\n",
      "348 luanda\n",
      "349 puerto ayora\n",
      "350 usinsk\n",
      "351 takoradi\n",
      "352 forbes\n",
      "353 kirakira\n",
      "354 swan hill\n",
      "355 kaka\n",
      "356 corinto\n",
      "357 baker city\n",
      "358 umzimvubu\n",
      "City information not found.\n",
      "359 fairbanks\n",
      "360 sinnamary\n",
      "361 taoudenni\n",
      "362 ponta do sol\n",
      "363 vardo\n",
      "364 bassano\n",
      "365 alofi\n",
      "366 marawi\n",
      "367 ruteng\n",
      "368 bajos de haina\n",
      "369 skagen\n",
      "370 tabulbah\n",
      "City information not found.\n",
      "371 andarab\n",
      "City information not found.\n",
      "372 kavkazskiy\n",
      "373 zaranj\n",
      "374 acarau\n",
      "375 kondinskoye\n",
      "376 bathsheba\n",
      "377 gazanjyk\n",
      "378 washington\n",
      "379 camopi\n",
      "380 ambon\n",
      "381 tocopilla\n",
      "382 grand gaube\n",
      "383 gamba\n",
      "384 north bend\n",
      "385 linxia\n",
      "386 walvis bay\n",
      "387 yenagoa\n",
      "388 cantagalo\n",
      "389 santa isabel\n",
      "390 damghan\n",
      "391 emba\n",
      "392 saint anthony\n",
      "393 amderma\n",
      "City information not found.\n",
      "394 nguru\n",
      "395 urucui\n",
      "396 tsihombe\n",
      "City information not found.\n",
      "397 maniwaki\n",
      "398 sibolga\n",
      "399 faranah\n",
      "400 emerald\n",
      "401 ostrovnoy\n",
      "402 norman wells\n",
      "403 barretos\n",
      "404 pulwama\n",
      "405 yulara\n",
      "406 padang\n",
      "407 mount gambier\n",
      "408 andrelandia\n",
      "409 champerico\n",
      "410 abu samrah\n",
      "411 teya\n",
      "412 zyryanka\n",
      "413 sogne\n",
      "414 goryachegorsk\n",
      "415 vakhtan\n",
      "416 rio tercero\n",
      "417 faanui\n",
      "418 chifeng\n",
      "419 grinnell\n",
      "420 chernoyerkovskaya\n",
      "421 vao\n",
      "422 port hedland\n",
      "423 tigre\n",
      "424 zhangjiakou\n",
      "425 mataro\n",
      "426 eyl\n",
      "427 charlestown\n",
      "428 okha\n",
      "429 kaabong\n",
      "430 faya\n",
      "431 harer\n",
      "432 peniche\n",
      "433 lavrentiya\n",
      "434 shache\n",
      "435 cozumel\n",
      "436 senador jose porfirio\n",
      "437 stoyba\n",
      "City information not found.\n",
      "438 airai\n",
      "439 bernalillo\n",
      "440 tabou\n",
      "441 ngunguru\n",
      "442 vestmannaeyjar\n",
      "443 ciudad bolivar\n",
      "444 mount pleasant\n",
      "445 killybegs\n",
      "446 russell\n",
      "447 atambua\n",
      "448 richards bay\n",
      "449 bonavista\n",
      "450 kiunga\n",
      "451 samarai\n",
      "452 do rud\n",
      "City information not found.\n",
      "453 karkaralinsk\n",
      "City information not found.\n",
      "454 kaoma\n",
      "455 kavieng\n",
      "456 strezhevoy\n",
      "457 durant\n",
      "458 kilindoni\n",
      "459 khonuu\n",
      "City information not found.\n",
      "460 toamasina\n",
      "461 tay ninh\n",
      "462 urumqi\n",
      "463 aflu\n",
      "City information not found.\n",
      "464 yomitan\n",
      "City information not found.\n",
      "465 sumenep\n",
      "466 troitsko-pechorsk\n",
      "467 kalmunai\n",
      "468 pout\n",
      "469 tezpur\n",
      "470 margate\n",
      "471 wilmington\n",
      "472 songjianghe\n",
      "473 jaumave\n",
      "474 gwanda\n",
      "475 rocha\n",
      "476 carndonagh\n",
      "477 port hardy\n",
      "478 yanam\n",
      "479 gao\n",
      "480 krasnogorodsk\n",
      "481 verkhnyaya inta\n",
      "482 mao\n",
      "483 shar\n",
      "484 paciran\n",
      "485 catia la mar\n",
      "486 doume\n",
      "487 tucurui\n",
      "488 natalinsk\n",
      "489 maniitsoq\n",
      "490 riyadh\n",
      "491 manzil tamim\n",
      "City information not found.\n",
      "492 tessalit\n",
      "493 yeppoon\n",
      "494 key west\n",
      "495 san lawrenz\n",
      "496 halalo\n",
      "City information not found.\n",
      "497 knysna\n",
      "498 north platte\n",
      "499 katherine\n",
      "500 badgam\n",
      "City information not found.\n",
      "501 coihaique\n",
      "502 panjab\n",
      "503 sorvag\n",
      "City information not found.\n",
      "504 jiaocheng\n",
      "505 balkhash\n",
      "506 aloleng\n",
      "507 tanhacu\n",
      "508 corrientes\n",
      "509 henties bay\n",
      "510 mattru\n",
      "511 yurecuaro\n",
      "512 zhangye\n",
      "513 ixtapa\n",
      "514 asau\n",
      "515 yelnya\n",
      "516 nyurba\n",
      "517 bara\n",
      "518 sabana de torres\n",
      "519 sataua\n",
      "City information not found.\n",
      "520 bandarbeyla\n",
      "521 koundara\n",
      "522 evensk\n",
      "523 sao jose dos campos\n",
      "524 tiznit\n",
      "525 mana\n",
      "526 mogadishu\n",
      "527 caxito\n",
      "528 campbell river\n",
      "529 sharjah\n",
      "530 raipur\n",
      "531 arlit\n",
      "532 inhambane\n",
      "533 vozhega\n",
      "534 dalby\n",
      "535 muroto\n",
      "536 srednekolymsk\n",
      "537 puerto del rosario\n",
      "538 yuzhne\n",
      "539 marystown\n",
      "540 raudeberg\n",
      "541 mutsamudu\n",
      "City information not found.\n",
      "542 sistranda\n",
      "543 constitucion\n",
      "544 prince rupert\n",
      "545 college\n",
      "546 codrington\n",
      "547 isiro\n",
      "548 lukovetskiy\n",
      "549 amancio\n",
      "City information not found.\n",
      "550 salinopolis\n",
      "551 geraldton\n",
      "552 kazalinsk\n",
      "City information not found.\n",
      "553 galveston\n",
      "554 saint-joseph\n",
      "555 niltepec\n",
      "556 barra do garcas\n",
      "557 qui nhon\n",
      "558 luwuk\n",
      "559 karamay\n",
      "City information not found.\n",
      "560 tommot\n",
      "561 melnikovo\n",
      "562 krasnoselkup\n",
      "563 paytug\n",
      "City information not found.\n",
      "564 hervey bay\n",
      "565 mudanya\n",
      "566 port lincoln\n",
      "567 mabaruma\n",
      "568 pangnirtung\n",
      "569 santa rosa\n",
      "570 mocuba\n",
      "571 la paz\n",
      "572 solsvik\n",
      "City information not found.\n",
      "573 gorin\n",
      "574 algiers\n",
      "575 ayan\n",
      "576 hanting\n",
      "577 ivankiv\n",
      "578 chara\n",
      "579 zhaozhou\n",
      "580 dongsheng\n",
      "581 himora\n",
      "City information not found.\n",
      "582 huarmey\n",
      "583 shimoda\n",
      "584 baracoa\n",
      "585 gornyy\n",
      "586 maceio\n",
      "587 poum\n",
      "588 coolum beach\n",
      "589 porto empedocle\n",
      "590 monticello\n",
      "591 denpasar\n",
      "592 pitimbu\n",
      "593 morshansk\n"
     ]
    }
   ],
   "source": [
    "#mock_city = 0\n",
    "city_name = []\n",
    "city= []\n",
    "lat = []\n",
    "lng = []\n",
    "max_temp = []\n",
    "humidity = []\n",
    "cloudiness = []\n",
    "wnd_speed= []\n",
    "country = []\n",
    "date = []\n",
    "\n",
    "\n",
    "url = \"http://api.openweathermap.org/data/2.5/weather?\"\n",
    "\n",
    "query_url = url + \"appid=\" + weather_api_key + \"&q=\" \n",
    "\n",
    "for x in range(len(cities)):\n",
    "    print(x,cities[x])\n",
    "    city_response = requests.get(query_url + cities[x]).json()\n",
    "    try:\n",
    "        city_name.append(city_response['name'])\n",
    "        lat.append(city_response['coord']['lat'])\n",
    "        lng.append(city_response['coord']['lon'])\n",
    "        max_temp.append(city_response['main']['temp_max'])\n",
    "        humidity.append(city_response['main']['humidity'])\n",
    "        cloudiness.append(city_response['clouds']['all'])\n",
    "        wnd_speed.append(city_response['wind']['speed'])\n",
    "        country.append(city_response['sys']['country'])\n",
    "        date.append(city_response['dt'])\n",
    "    except KeyError:\n",
    "        print('City information not found.')\n",
    "    \n",
    "\n",
    "\n",
    "   \n",
    "\n",
    "    \n",
    "    \n",
    "  \n",
    "   "
   ]
  },
  {
   "cell_type": "code",
   "execution_count": 5,
   "metadata": {},
   "outputs": [
    {
     "data": {
      "text/plain": [
       "{'coord': {'lon': 41.81, 'lat': 53.44},\n",
       " 'weather': [{'id': 802,\n",
       "   'main': 'Clouds',\n",
       "   'description': 'scattered clouds',\n",
       "   'icon': '03n'}],\n",
       " 'base': 'stations',\n",
       " 'main': {'temp': 272.3,\n",
       "  'feels_like': 266.92,\n",
       "  'temp_min': 272.3,\n",
       "  'temp_max': 272.3,\n",
       "  'pressure': 1026,\n",
       "  'humidity': 94,\n",
       "  'sea_level': 1026,\n",
       "  'grnd_level': 1013},\n",
       " 'visibility': 10000,\n",
       " 'wind': {'speed': 4.51, 'deg': 324},\n",
       " 'clouds': {'all': 32},\n",
       " 'dt': 1605065519,\n",
       " 'sys': {'country': 'RU', 'sunrise': 1605069071, 'sunset': 1605100955},\n",
       " 'timezone': 10800,\n",
       " 'id': 525138,\n",
       " 'name': 'Morshansk',\n",
       " 'cod': 200}"
      ]
     },
     "execution_count": 5,
     "metadata": {},
     "output_type": "execute_result"
    }
   ],
   "source": [
    "city_response"
   ]
  },
  {
   "cell_type": "markdown",
   "metadata": {},
   "source": [
    "### Convert Raw Data to DataFrame\n",
    "* Export the city data into a .csv.\n",
    "* Display the DataFrame"
   ]
  },
  {
   "cell_type": "code",
   "execution_count": 14,
   "metadata": {},
   "outputs": [
    {
     "data": {
      "text/html": [
       "<div>\n",
       "<style scoped>\n",
       "    .dataframe tbody tr th:only-of-type {\n",
       "        vertical-align: middle;\n",
       "    }\n",
       "\n",
       "    .dataframe tbody tr th {\n",
       "        vertical-align: top;\n",
       "    }\n",
       "\n",
       "    .dataframe thead th {\n",
       "        text-align: right;\n",
       "    }\n",
       "</style>\n",
       "<table border=\"1\" class=\"dataframe\">\n",
       "  <thead>\n",
       "    <tr style=\"text-align: right;\">\n",
       "      <th></th>\n",
       "      <th>City</th>\n",
       "      <th>Lat</th>\n",
       "      <th>Lng</th>\n",
       "      <th>Max Temp</th>\n",
       "      <th>Humidity</th>\n",
       "      <th>Cloudiness</th>\n",
       "      <th>Wind Speed</th>\n",
       "      <th>Country</th>\n",
       "      <th>Date</th>\n",
       "    </tr>\n",
       "  </thead>\n",
       "  <tbody>\n",
       "    <tr>\n",
       "      <th>0</th>\n",
       "      <td>Punta Arenas</td>\n",
       "      <td>-53.15</td>\n",
       "      <td>-70.92</td>\n",
       "      <td>286.15</td>\n",
       "      <td>71</td>\n",
       "      <td>75</td>\n",
       "      <td>5.10</td>\n",
       "      <td>CL</td>\n",
       "      <td>1605065360</td>\n",
       "    </tr>\n",
       "    <tr>\n",
       "      <th>1</th>\n",
       "      <td>Jacareacanga</td>\n",
       "      <td>-6.22</td>\n",
       "      <td>-57.75</td>\n",
       "      <td>296.03</td>\n",
       "      <td>89</td>\n",
       "      <td>64</td>\n",
       "      <td>0.44</td>\n",
       "      <td>BR</td>\n",
       "      <td>1605065360</td>\n",
       "    </tr>\n",
       "    <tr>\n",
       "      <th>2</th>\n",
       "      <td>Rikitea</td>\n",
       "      <td>-23.12</td>\n",
       "      <td>-134.97</td>\n",
       "      <td>296.17</td>\n",
       "      <td>79</td>\n",
       "      <td>9</td>\n",
       "      <td>8.98</td>\n",
       "      <td>PF</td>\n",
       "      <td>1605065360</td>\n",
       "    </tr>\n",
       "    <tr>\n",
       "      <th>3</th>\n",
       "      <td>São João da Barra</td>\n",
       "      <td>-21.64</td>\n",
       "      <td>-41.05</td>\n",
       "      <td>296.46</td>\n",
       "      <td>91</td>\n",
       "      <td>100</td>\n",
       "      <td>4.90</td>\n",
       "      <td>BR</td>\n",
       "      <td>1605065360</td>\n",
       "    </tr>\n",
       "    <tr>\n",
       "      <th>4</th>\n",
       "      <td>Vaini</td>\n",
       "      <td>-21.20</td>\n",
       "      <td>-175.20</td>\n",
       "      <td>300.15</td>\n",
       "      <td>74</td>\n",
       "      <td>20</td>\n",
       "      <td>4.60</td>\n",
       "      <td>TO</td>\n",
       "      <td>1605065361</td>\n",
       "    </tr>\n",
       "  </tbody>\n",
       "</table>\n",
       "</div>"
      ],
      "text/plain": [
       "                City    Lat     Lng  Max Temp  Humidity  Cloudiness  \\\n",
       "0       Punta Arenas -53.15  -70.92    286.15        71          75   \n",
       "1       Jacareacanga  -6.22  -57.75    296.03        89          64   \n",
       "2            Rikitea -23.12 -134.97    296.17        79           9   \n",
       "3  São João da Barra -21.64  -41.05    296.46        91         100   \n",
       "4              Vaini -21.20 -175.20    300.15        74          20   \n",
       "\n",
       "   Wind Speed Country        Date  \n",
       "0        5.10      CL  1605065360  \n",
       "1        0.44      BR  1605065360  \n",
       "2        8.98      PF  1605065360  \n",
       "3        4.90      BR  1605065360  \n",
       "4        4.60      TO  1605065361  "
      ]
     },
     "execution_count": 14,
     "metadata": {},
     "output_type": "execute_result"
    }
   ],
   "source": [
    "'''city_data= {'City':[city_name],'Lat':[lat], 'Lng':[lng], \n",
    "            'Max Temp':[max_temp], 'Humidity':[humidity], \n",
    "            'Cloudiness':[cloudiness], 'Wind Speed':[wnd_speed], \n",
    "            'Country':[country], 'Date':[date]}\n",
    "'''\n",
    "\n",
    "city_data_df= pd.DataFrame()\n",
    "city_data_df['City'] = city_name\n",
    "city_data_df['Lat'] = lat\n",
    "city_data_df['Lng'] = lng\n",
    "city_data_df['Max Temp'] = max_temp\n",
    "city_data_df['Humidity'] = humidity\n",
    "city_data_df['Cloudiness'] = cloudiness\n",
    "city_data_df['Wind Speed'] = wnd_speed\n",
    "city_data_df['Country'] = country\n",
    "city_data_df['Date'] = date\n",
    "\n",
    "\n",
    "city_data_df.to_csv(r'city_data_df.csv')\n",
    "\n",
    "city_data_df.head()\n",
    "\n"
   ]
  },
  {
   "cell_type": "code",
   "execution_count": 11,
   "metadata": {},
   "outputs": [
    {
     "data": {
      "text/html": [
       "<div>\n",
       "<style scoped>\n",
       "    .dataframe tbody tr th:only-of-type {\n",
       "        vertical-align: middle;\n",
       "    }\n",
       "\n",
       "    .dataframe tbody tr th {\n",
       "        vertical-align: top;\n",
       "    }\n",
       "\n",
       "    .dataframe thead th {\n",
       "        text-align: right;\n",
       "    }\n",
       "</style>\n",
       "<table border=\"1\" class=\"dataframe\">\n",
       "  <thead>\n",
       "    <tr style=\"text-align: right;\">\n",
       "      <th></th>\n",
       "      <th>Lat</th>\n",
       "      <th>Lng</th>\n",
       "      <th>Max Temp</th>\n",
       "      <th>Humidity</th>\n",
       "      <th>Cloudiness</th>\n",
       "      <th>Wind Speed</th>\n",
       "      <th>Date</th>\n",
       "    </tr>\n",
       "  </thead>\n",
       "  <tbody>\n",
       "    <tr>\n",
       "      <th>count</th>\n",
       "      <td>535.000000</td>\n",
       "      <td>535.000000</td>\n",
       "      <td>535.000000</td>\n",
       "      <td>535.000000</td>\n",
       "      <td>535.000000</td>\n",
       "      <td>535.000000</td>\n",
       "      <td>5.350000e+02</td>\n",
       "    </tr>\n",
       "    <tr>\n",
       "      <th>mean</th>\n",
       "      <td>18.731832</td>\n",
       "      <td>15.043028</td>\n",
       "      <td>287.348299</td>\n",
       "      <td>74.699065</td>\n",
       "      <td>49.927103</td>\n",
       "      <td>3.391645</td>\n",
       "      <td>1.605065e+09</td>\n",
       "    </tr>\n",
       "    <tr>\n",
       "      <th>std</th>\n",
       "      <td>33.762797</td>\n",
       "      <td>91.157024</td>\n",
       "      <td>13.298663</td>\n",
       "      <td>19.851252</td>\n",
       "      <td>39.866776</td>\n",
       "      <td>2.483049</td>\n",
       "      <td>9.144641e+01</td>\n",
       "    </tr>\n",
       "    <tr>\n",
       "      <th>min</th>\n",
       "      <td>-54.800000</td>\n",
       "      <td>-175.200000</td>\n",
       "      <td>245.040000</td>\n",
       "      <td>9.000000</td>\n",
       "      <td>0.000000</td>\n",
       "      <td>0.160000</td>\n",
       "      <td>1.605065e+09</td>\n",
       "    </tr>\n",
       "    <tr>\n",
       "      <th>25%</th>\n",
       "      <td>-9.935000</td>\n",
       "      <td>-62.855000</td>\n",
       "      <td>278.660000</td>\n",
       "      <td>66.000000</td>\n",
       "      <td>4.000000</td>\n",
       "      <td>1.500000</td>\n",
       "      <td>1.605065e+09</td>\n",
       "    </tr>\n",
       "    <tr>\n",
       "      <th>50%</th>\n",
       "      <td>21.230000</td>\n",
       "      <td>18.420000</td>\n",
       "      <td>290.370000</td>\n",
       "      <td>80.000000</td>\n",
       "      <td>47.000000</td>\n",
       "      <td>2.680000</td>\n",
       "      <td>1.605065e+09</td>\n",
       "    </tr>\n",
       "    <tr>\n",
       "      <th>75%</th>\n",
       "      <td>46.775000</td>\n",
       "      <td>94.385000</td>\n",
       "      <td>297.890000</td>\n",
       "      <td>90.000000</td>\n",
       "      <td>90.000000</td>\n",
       "      <td>4.600000</td>\n",
       "      <td>1.605065e+09</td>\n",
       "    </tr>\n",
       "    <tr>\n",
       "      <th>max</th>\n",
       "      <td>78.220000</td>\n",
       "      <td>179.320000</td>\n",
       "      <td>312.150000</td>\n",
       "      <td>100.000000</td>\n",
       "      <td>100.000000</td>\n",
       "      <td>13.900000</td>\n",
       "      <td>1.605066e+09</td>\n",
       "    </tr>\n",
       "  </tbody>\n",
       "</table>\n",
       "</div>"
      ],
      "text/plain": [
       "              Lat         Lng    Max Temp    Humidity  Cloudiness  Wind Speed  \\\n",
       "count  535.000000  535.000000  535.000000  535.000000  535.000000  535.000000   \n",
       "mean    18.731832   15.043028  287.348299   74.699065   49.927103    3.391645   \n",
       "std     33.762797   91.157024   13.298663   19.851252   39.866776    2.483049   \n",
       "min    -54.800000 -175.200000  245.040000    9.000000    0.000000    0.160000   \n",
       "25%     -9.935000  -62.855000  278.660000   66.000000    4.000000    1.500000   \n",
       "50%     21.230000   18.420000  290.370000   80.000000   47.000000    2.680000   \n",
       "75%     46.775000   94.385000  297.890000   90.000000   90.000000    4.600000   \n",
       "max     78.220000  179.320000  312.150000  100.000000  100.000000   13.900000   \n",
       "\n",
       "               Date  \n",
       "count  5.350000e+02  \n",
       "mean   1.605065e+09  \n",
       "std    9.144641e+01  \n",
       "min    1.605065e+09  \n",
       "25%    1.605065e+09  \n",
       "50%    1.605065e+09  \n",
       "75%    1.605065e+09  \n",
       "max    1.605066e+09  "
      ]
     },
     "execution_count": 11,
     "metadata": {},
     "output_type": "execute_result"
    }
   ],
   "source": [
    "city_data_df.describe()"
   ]
  },
  {
   "cell_type": "markdown",
   "metadata": {},
   "source": [
    "## Inspect the data and remove the cities where the humidity > 100%.\n",
    "----\n",
    "Skip this step if there are no cities that have humidity > 100%. "
   ]
  },
  {
   "cell_type": "code",
   "execution_count": null,
   "metadata": {},
   "outputs": [],
   "source": []
  },
  {
   "cell_type": "code",
   "execution_count": 17,
   "metadata": {},
   "outputs": [
    {
     "data": {
      "text/plain": [
       "Int64Index([], dtype='int64')"
      ]
     },
     "execution_count": 17,
     "metadata": {},
     "output_type": "execute_result"
    }
   ],
   "source": [
    "#  Get the indices of cities that have humidity over 100%.\n"
   ]
  },
  {
   "cell_type": "code",
   "execution_count": 19,
   "metadata": {},
   "outputs": [
    {
     "data": {
      "text/html": [
       "<div>\n",
       "<style scoped>\n",
       "    .dataframe tbody tr th:only-of-type {\n",
       "        vertical-align: middle;\n",
       "    }\n",
       "\n",
       "    .dataframe tbody tr th {\n",
       "        vertical-align: top;\n",
       "    }\n",
       "\n",
       "    .dataframe thead th {\n",
       "        text-align: right;\n",
       "    }\n",
       "</style>\n",
       "<table border=\"1\" class=\"dataframe\">\n",
       "  <thead>\n",
       "    <tr style=\"text-align: right;\">\n",
       "      <th></th>\n",
       "      <th>City</th>\n",
       "      <th>Lat</th>\n",
       "      <th>Lng</th>\n",
       "      <th>Max Temp</th>\n",
       "      <th>Humidity</th>\n",
       "      <th>Cloudiness</th>\n",
       "      <th>Wind Speed</th>\n",
       "      <th>Country</th>\n",
       "      <th>Date</th>\n",
       "    </tr>\n",
       "  </thead>\n",
       "  <tbody>\n",
       "    <tr>\n",
       "      <td>0</td>\n",
       "      <td>butaritari</td>\n",
       "      <td>3.07</td>\n",
       "      <td>172.79</td>\n",
       "      <td>83.32</td>\n",
       "      <td>74</td>\n",
       "      <td>84</td>\n",
       "      <td>10.42</td>\n",
       "      <td>KI</td>\n",
       "      <td>1593605283</td>\n",
       "    </tr>\n",
       "    <tr>\n",
       "      <td>1</td>\n",
       "      <td>yerbogachen</td>\n",
       "      <td>61.28</td>\n",
       "      <td>108.01</td>\n",
       "      <td>79.52</td>\n",
       "      <td>58</td>\n",
       "      <td>20</td>\n",
       "      <td>7.70</td>\n",
       "      <td>RU</td>\n",
       "      <td>1593605121</td>\n",
       "    </tr>\n",
       "    <tr>\n",
       "      <td>2</td>\n",
       "      <td>cape town</td>\n",
       "      <td>-33.93</td>\n",
       "      <td>18.42</td>\n",
       "      <td>73.00</td>\n",
       "      <td>77</td>\n",
       "      <td>27</td>\n",
       "      <td>4.70</td>\n",
       "      <td>ZA</td>\n",
       "      <td>1593605039</td>\n",
       "    </tr>\n",
       "    <tr>\n",
       "      <td>3</td>\n",
       "      <td>touba</td>\n",
       "      <td>8.28</td>\n",
       "      <td>-7.68</td>\n",
       "      <td>79.97</td>\n",
       "      <td>75</td>\n",
       "      <td>82</td>\n",
       "      <td>3.58</td>\n",
       "      <td>CI</td>\n",
       "      <td>1593605284</td>\n",
       "    </tr>\n",
       "    <tr>\n",
       "      <td>4</td>\n",
       "      <td>jamestown</td>\n",
       "      <td>42.10</td>\n",
       "      <td>-79.24</td>\n",
       "      <td>64.00</td>\n",
       "      <td>88</td>\n",
       "      <td>1</td>\n",
       "      <td>6.93</td>\n",
       "      <td>US</td>\n",
       "      <td>1593605284</td>\n",
       "    </tr>\n",
       "  </tbody>\n",
       "</table>\n",
       "</div>"
      ],
      "text/plain": [
       "          City    Lat     Lng  Max Temp  Humidity  Cloudiness  Wind Speed  \\\n",
       "0   butaritari   3.07  172.79     83.32        74          84       10.42   \n",
       "1  yerbogachen  61.28  108.01     79.52        58          20        7.70   \n",
       "2    cape town -33.93   18.42     73.00        77          27        4.70   \n",
       "3        touba   8.28   -7.68     79.97        75          82        3.58   \n",
       "4    jamestown  42.10  -79.24     64.00        88           1        6.93   \n",
       "\n",
       "  Country        Date  \n",
       "0      KI  1593605283  \n",
       "1      RU  1593605121  \n",
       "2      ZA  1593605039  \n",
       "3      CI  1593605284  \n",
       "4      US  1593605284  "
      ]
     },
     "execution_count": 19,
     "metadata": {},
     "output_type": "execute_result"
    }
   ],
   "source": [
    "# Make a new DataFrame equal to the city data to drop all humidity outliers by index.\n",
    "# Passing \"inplace=False\" will make a copy of the city_data DataFrame, which we call \"clean_city_data\".\n",
    "\n"
   ]
  },
  {
   "cell_type": "code",
   "execution_count": 23,
   "metadata": {},
   "outputs": [],
   "source": [
    "import matplotlib.pyplot as plt\n",
    "\n"
   ]
  },
  {
   "cell_type": "markdown",
   "metadata": {},
   "source": [
    "## Plotting the Data\n",
    "* Use proper labeling of the plots using plot titles (including date of analysis) and axes labels.\n",
    "* Save the plotted figures as .pngs."
   ]
  },
  {
   "cell_type": "markdown",
   "metadata": {},
   "source": [
    "## Latitude vs. Temperature Plot"
   ]
  },
  {
   "cell_type": "code",
   "execution_count": 31,
   "metadata": {
    "scrolled": true
   },
   "outputs": [
    {
     "data": {
      "image/png": "[encoded data removed]",
      "text/plain": [
       "<Figure size 432x288 with 1 Axes>"
      ]
     },
     "metadata": {
      "needs_background": "light"
     },
     "output_type": "display_data"
    }
   ],
   "source": [
    "plt.scatter(lat, max_temp, marker=\"o\", facecolors=\"blue\", edgecolors=\"black\")\n",
    "plt.title('City Latitude vs. Max Temp')\n",
    "plt.ylabel('Max Temperature (F)')\n",
    "plt.xlabel('Latitude')\n",
    "plt.grid(True)\n",
    "\n",
    "plt.show()"
   ]
  },
  {
   "cell_type": "markdown",
   "metadata": {},
   "source": [
    "## Latitude vs. Humidity Plot"
   ]
  },
  {
   "cell_type": "code",
   "execution_count": 32,
   "metadata": {},
   "outputs": [
    {
     "data": {
      "image/png": "[encoded data removed]",
      "text/plain": [
       "<Figure size 432x288 with 1 Axes>"
      ]
     },
     "metadata": {
      "needs_background": "light"
     },
     "output_type": "display_data"
    }
   ],
   "source": [
    "plt.scatter(lat, humidity, marker=\"o\", facecolors=\"blue\", edgecolors=\"black\")\n",
    "plt.title('City Latitude vs. Humidity')\n",
    "plt.ylabel('Humidity (%)')\n",
    "plt.xlabel('Latitude')\n",
    "plt.grid(True)\n",
    "\n",
    "plt.show()"
   ]
  },
  {
   "cell_type": "markdown",
   "metadata": {},
   "source": [
    "## Latitude vs. Cloudiness Plot"
   ]
  },
  {
   "cell_type": "code",
   "execution_count": 33,
   "metadata": {},
   "outputs": [
    {
     "data": {
      "image/png": "[encoded data removed]",
      "text/plain": [
       "<Figure size 432x288 with 1 Axes>"
      ]
     },
     "metadata": {
      "needs_background": "light"
     },
     "output_type": "display_data"
    }
   ],
   "source": [
    "plt.scatter(lat, cloudiness, marker=\"o\", facecolors=\"blue\", edgecolors=\"black\")\n",
    "plt.title('City Latitude vs. Cloudiness')\n",
    "plt.ylabel('Cloudiness (%)')\n",
    "plt.xlabel('Latitude')\n",
    "plt.grid(True)\n",
    "\n",
    "plt.show()"
   ]
  },
  {
   "cell_type": "markdown",
   "metadata": {},
   "source": [
    "## Latitude vs. Wind Speed Plot"
   ]
  },
  {
   "cell_type": "code",
   "execution_count": 34,
   "metadata": {},
   "outputs": [
    {
     "data": {
      "image/png": "[encoded data removed]",
      "text/plain": [
       "<Figure size 432x288 with 1 Axes>"
      ]
     },
     "metadata": {
      "needs_background": "light"
     },
     "output_type": "display_data"
    }
   ],
   "source": [
    "plt.scatter(lat, wnd_speed, marker=\"o\", facecolors=\"blue\", edgecolors=\"black\")\n",
    "plt.title('City Latitude vs. Wind Speed')\n",
    "plt.ylabel('Wind Speed (mph)')\n",
    "plt.xlabel('Latitude')\n",
    "plt.grid(True)\n",
    "\n",
    "plt.show()"
   ]
  },
  {
   "cell_type": "markdown",
   "metadata": {},
   "source": [
    "## Linear Regression"
   ]
  },
  {
   "cell_type": "code",
   "execution_count": 24,
   "metadata": {},
   "outputs": [],
   "source": []
  },
  {
   "cell_type": "markdown",
   "metadata": {},
   "source": [
    "####  Northern Hemisphere - Max Temp vs. Latitude Linear Regression"
   ]
  },
  {
   "cell_type": "code",
   "execution_count": 25,
   "metadata": {},
   "outputs": [
    {
     "name": "stdout",
     "output_type": "stream",
     "text": [
      "The r-value is: 0.46937863826630627\n"
     ]
    },
    {
     "data": {
      "image/png": "[encoded data removed]",
      "text/plain": [
       "<Figure size 432x288 with 1 Axes>"
      ]
     },
     "metadata": {
      "needs_background": "light"
     },
     "output_type": "display_data"
    }
   ],
   "source": []
  },
  {
   "cell_type": "markdown",
   "metadata": {},
   "source": [
    "####  Southern Hemisphere - Max Temp vs. Latitude Linear Regression"
   ]
  },
  {
   "cell_type": "code",
   "execution_count": 26,
   "metadata": {},
   "outputs": [
    {
     "name": "stdout",
     "output_type": "stream",
     "text": [
      "The r-value is: 0.6082708688906918\n"
     ]
    },
    {
     "data": {
      "image/png": "[encoded data removed]",
      "text/plain": [
       "<Figure size 432x288 with 1 Axes>"
      ]
     },
     "metadata": {
      "needs_background": "light"
     },
     "output_type": "display_data"
    }
   ],
   "source": []
  },
  {
   "cell_type": "markdown",
   "metadata": {},
   "source": [
    "####  Northern Hemisphere - Humidity (%) vs. Latitude Linear Regression"
   ]
  },
  {
   "cell_type": "code",
   "execution_count": 27,
   "metadata": {},
   "outputs": [
    {
     "name": "stdout",
     "output_type": "stream",
     "text": [
      "The r-value is: 0.000543987878808455\n"
     ]
    },
    {
     "data": {
      "image/png": "[encoded data removed]",
      "text/plain": [
       "<Figure size 432x288 with 1 Axes>"
      ]
     },
     "metadata": {
      "needs_background": "light"
     },
     "output_type": "display_data"
    }
   ],
   "source": []
  },
  {
   "cell_type": "markdown",
   "metadata": {},
   "source": [
    "####  Southern Hemisphere - Humidity (%) vs. Latitude Linear Regression"
   ]
  },
  {
   "cell_type": "code",
   "execution_count": 28,
   "metadata": {},
   "outputs": [
    {
     "name": "stdout",
     "output_type": "stream",
     "text": [
      "The r-value is: 0.014985174297345524\n"
     ]
    },
    {
     "data": {
      "image/png": "[encoded data removed]",
      "text/plain": [
       "<Figure size 432x288 with 1 Axes>"
      ]
     },
     "metadata": {
      "needs_background": "light"
     },
     "output_type": "display_data"
    }
   ],
   "source": []
  },
  {
   "cell_type": "markdown",
   "metadata": {},
   "source": [
    "####  Northern Hemisphere - Cloudiness (%) vs. Latitude Linear Regression"
   ]
  },
  {
   "cell_type": "code",
   "execution_count": 29,
   "metadata": {},
   "outputs": [
    {
     "name": "stdout",
     "output_type": "stream",
     "text": [
      "The r-value is: 0.0020898727664228514\n"
     ]
    },
    {
     "data": {
      "image/png": "[encoded data removed]",
      "text/plain": [
       "<Figure size 432x288 with 1 Axes>"
      ]
     },
     "metadata": {
      "needs_background": "light"
     },
     "output_type": "display_data"
    }
   ],
   "source": []
  },
  {
   "cell_type": "markdown",
   "metadata": {},
   "source": [
    "####  Southern Hemisphere - Cloudiness (%) vs. Latitude Linear Regression"
   ]
  },
  {
   "cell_type": "code",
   "execution_count": 30,
   "metadata": {},
   "outputs": [
    {
     "name": "stdout",
     "output_type": "stream",
     "text": [
      "The r-value is: 0.0035263772085582894\n"
     ]
    },
    {
     "data": {
      "image/png": "[encoded data removed]",
      "text/plain": [
       "<Figure size 432x288 with 1 Axes>"
      ]
     },
     "metadata": {
      "needs_background": "light"
     },
     "output_type": "display_data"
    }
   ],
   "source": []
  },
  {
   "cell_type": "markdown",
   "metadata": {},
   "source": [
    "####  Northern Hemisphere - Wind Speed (mph) vs. Latitude Linear Regression"
   ]
  },
  {
   "cell_type": "code",
   "execution_count": 31,
   "metadata": {},
   "outputs": [
    {
     "name": "stdout",
     "output_type": "stream",
     "text": [
      "The r-value is: 0.04019723576144484\n"
     ]
    },
    {
     "data": {
      "image/png": "[encoded data removed]",
      "text/plain": [
       "<Figure size 432x288 with 1 Axes>"
      ]
     },
     "metadata": {
      "needs_background": "light"
     },
     "output_type": "display_data"
    }
   ],
   "source": []
  },
  {
   "cell_type": "markdown",
   "metadata": {},
   "source": [
    "####  Southern Hemisphere - Wind Speed (mph) vs. Latitude Linear Regression"
   ]
  },
  {
   "cell_type": "code",
   "execution_count": 32,
   "metadata": {},
   "outputs": [
    {
     "name": "stdout",
     "output_type": "stream",
     "text": [
      "The r-value is: 0.017128274759839232\n"
     ]
    },
    {
     "data": {
      "image/png": "[encoded data removed]",
      "text/plain": [
       "<Figure size 432x288 with 1 Axes>"
      ]
     },
     "metadata": {
      "needs_background": "light"
     },
     "output_type": "display_data"
    }
   ],
   "source": []
  },
  {
   "cell_type": "code",
   "execution_count": null,
   "metadata": {},
   "outputs": [],
   "source": []
  }
 ],
 "metadata": {
  "anaconda-cloud": {},
  "kernel_info": {
   "name": "python3"
  },
  "kernelspec": {
   "display_name": "PythonData",
   "language": "python",
   "name": "pythondata"
  },
  "language_info": {
   "codemirror_mode": {
    "name": "ipython",
    "version": 3
   },
   "file_extension": ".py",
   "mimetype": "text/x-python",
   "name": "python",
   "nbconvert_exporter": "python",
   "pygments_lexer": "ipython3",
   "version": "3.8.5"
  },
  "latex_envs": {
   "LaTeX_envs_menu_present": true,
   "autoclose": false,
   "autocomplete": true,
   "bibliofile": "biblio.bib",
   "cite_by": "apalike",
   "current_citInitial": 1,
   "eqLabelWithNumbers": true,
   "eqNumInitial": 1,
   "hotkeys": {
    "equation": "Ctrl-E",
    "itemize": "Ctrl-I"
   },
   "labels_anchors": false,
   "latex_user_defs": false,
   "report_style_numbering": false,
   "user_envs_cfg": false
  },
  "nteract": {
   "version": "0.12.3"
  }
 },
 "nbformat": 4,
 "nbformat_minor": 4
}
